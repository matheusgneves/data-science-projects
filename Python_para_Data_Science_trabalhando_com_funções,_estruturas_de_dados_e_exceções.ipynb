{
  "nbformat": 4,
  "nbformat_minor": 0,
  "metadata": {
    "colab": {
      "provenance": [],
      "authorship_tag": "ABX9TyMY0inhtK8DSTA/IP5A49cH",
      "include_colab_link": true
    },
    "kernelspec": {
      "name": "python3",
      "display_name": "Python 3"
    },
    "language_info": {
      "name": "python"
    }
  },
  "cells": [
    {
      "cell_type": "markdown",
      "metadata": {
        "id": "view-in-github",
        "colab_type": "text"
      },
      "source": [
        "<a href=\"https://colab.research.google.com/github/matheusgneves/data-science-projects/blob/main/Python_para_Data_Science_trabalhando_com_fun%C3%A7%C3%B5es%2C_estruturas_de_dados_e_exce%C3%A7%C3%B5es.ipynb\" target=\"_parent\"><img src=\"https://colab.research.google.com/assets/colab-badge.svg\" alt=\"Open In Colab\"/></a>"
      ]
    },
    {
      "cell_type": "code",
      "execution_count": null,
      "metadata": {
        "colab": {
          "base_uri": "https://localhost:8080/"
        },
        "id": "P0JZ7KyOun7V",
        "outputId": "a855ae2a-a299-47a5-b588-5ce5189222c2"
      },
      "outputs": [
        {
          "output_type": "stream",
          "name": "stdout",
          "text": [
            "Requirement already satisfied: matplotlib==3.7.1 in /usr/local/lib/python3.11/dist-packages (3.7.1)\n",
            "Requirement already satisfied: contourpy>=1.0.1 in /usr/local/lib/python3.11/dist-packages (from matplotlib==3.7.1) (1.3.2)\n",
            "Requirement already satisfied: cycler>=0.10 in /usr/local/lib/python3.11/dist-packages (from matplotlib==3.7.1) (0.12.1)\n",
            "Requirement already satisfied: fonttools>=4.22.0 in /usr/local/lib/python3.11/dist-packages (from matplotlib==3.7.1) (4.58.4)\n",
            "Requirement already satisfied: kiwisolver>=1.0.1 in /usr/local/lib/python3.11/dist-packages (from matplotlib==3.7.1) (1.4.8)\n",
            "Requirement already satisfied: numpy>=1.20 in /usr/local/lib/python3.11/dist-packages (from matplotlib==3.7.1) (2.0.2)\n",
            "Requirement already satisfied: packaging>=20.0 in /usr/local/lib/python3.11/dist-packages (from matplotlib==3.7.1) (24.2)\n",
            "Requirement already satisfied: pillow>=6.2.0 in /usr/local/lib/python3.11/dist-packages (from matplotlib==3.7.1) (11.2.1)\n",
            "Requirement already satisfied: pyparsing>=2.3.1 in /usr/local/lib/python3.11/dist-packages (from matplotlib==3.7.1) (3.2.3)\n",
            "Requirement already satisfied: python-dateutil>=2.7 in /usr/local/lib/python3.11/dist-packages (from matplotlib==3.7.1) (2.9.0.post0)\n",
            "Requirement already satisfied: six>=1.5 in /usr/local/lib/python3.11/dist-packages (from python-dateutil>=2.7->matplotlib==3.7.1) (1.17.0)\n"
          ]
        }
      ],
      "source": [
        "!pip install matplotlib==3.7.1"
      ]
    },
    {
      "cell_type": "code",
      "source": [
        "import numpy as np"
      ],
      "metadata": {
        "id": "eEiZ3J2_uzVf"
      },
      "execution_count": null,
      "outputs": []
    },
    {
      "cell_type": "code",
      "source": [
        "from random import choice\n",
        "\n",
        "lista = [8, 12, 54, 23, 43, 1, 90, 87, 105, 77]\n",
        "\n",
        "print(choice(lista))"
      ],
      "metadata": {
        "colab": {
          "base_uri": "https://localhost:8080/"
        },
        "id": "gQRRkhimvVag",
        "outputId": "0d78bbda-0e52-4d2a-8fee-abe01306a073"
      },
      "execution_count": null,
      "outputs": [
        {
          "output_type": "stream",
          "name": "stdout",
          "text": [
            "43\n"
          ]
        }
      ]
    },
    {
      "cell_type": "code",
      "source": [
        "from random import randrange\n",
        "\n",
        "randrange(100)"
      ],
      "metadata": {
        "colab": {
          "base_uri": "https://localhost:8080/"
        },
        "id": "Jwiwzm1CvZIo",
        "outputId": "cc34c655-fdcd-4929-deba-b8a7f5ca7bd0"
      },
      "execution_count": null,
      "outputs": [
        {
          "output_type": "execute_result",
          "data": {
            "text/plain": [
              "40"
            ]
          },
          "metadata": {},
          "execution_count": 20
        }
      ]
    },
    {
      "cell_type": "code",
      "source": [
        "from math import pow\n",
        "\n",
        "numero_1 = int(input(\"Digite um número: \"))\n",
        "numero_2 = int(input(\"Digite outro número: \"))\n",
        "\n",
        "print(pow(numero_1, numero_2))"
      ],
      "metadata": {
        "colab": {
          "base_uri": "https://localhost:8080/"
        },
        "id": "dyTfjC78v2vX",
        "outputId": "8c66c57b-c89b-478b-852d-99069270fec3"
      },
      "execution_count": null,
      "outputs": [
        {
          "output_type": "stream",
          "name": "stdout",
          "text": [
            "Digite um número: 5\n",
            "Digite outro número: 5\n",
            "3125.0\n"
          ]
        }
      ]
    },
    {
      "cell_type": "code",
      "source": [
        "from random import randrange\n",
        "\n",
        "numero_participantes = int(input(\"Digite o número de participantes do sorteio: \"))\n",
        "print(f\"O número sorteado é:\", randrange(numero_participantes))"
      ],
      "metadata": {
        "colab": {
          "base_uri": "https://localhost:8080/"
        },
        "id": "5wHz0CKHwMnI",
        "outputId": "d434767d-0fe7-40f7-bbb1-70e9c3e586a2"
      },
      "execution_count": null,
      "outputs": [
        {
          "output_type": "stream",
          "name": "stdout",
          "text": [
            "Digite o número de participantes do sorteio: 2451\n",
            "O número sorteado é: 757\n"
          ]
        }
      ]
    },
    {
      "cell_type": "code",
      "source": [
        "from random import randrange\n",
        "\n",
        "nome_usuário = input(\"Digite seu nome: \")\n",
        "token = randrange(1000, 10000)\n",
        "\n",
        "print(f\"Olá {nome_usuário}, seu token de acesso é: {token}. Seja bem vindo(a)!\")"
      ],
      "metadata": {
        "colab": {
          "base_uri": "https://localhost:8080/"
        },
        "id": "pUZQvL5Gwei_",
        "outputId": "b09c6baf-3543-4d5d-f42d-afdd8b6d6da2"
      },
      "execution_count": null,
      "outputs": [
        {
          "output_type": "stream",
          "name": "stdout",
          "text": [
            "Digite seu nome: Matheus\n",
            "Olá Matheus, seu token de acesso é: 8253. Seja bem vindo(a)!\n"
          ]
        }
      ]
    },
    {
      "cell_type": "code",
      "source": [
        "from random import choices\n",
        "\n",
        "frutas = [\"maçã\", \"banana\", \"uva\", \"pêra\",\n",
        "          \"manga\", \"coco\", \"melancia\", \"mamão\",\n",
        "          \"laranja\", \"abacaxi\", \"kiwi\", \"ameixa\"]\n",
        "\n",
        "salada_de_frutas_surpresa = print(choices(frutas, k=3))"
      ],
      "metadata": {
        "id": "cQC1FvZwxnfU",
        "colab": {
          "base_uri": "https://localhost:8080/"
        },
        "outputId": "4d6035ea-5762-4d17-cf9e-0819c0bc31aa"
      },
      "execution_count": null,
      "outputs": [
        {
          "output_type": "stream",
          "name": "stdout",
          "text": [
            "['uva', 'maçã', 'mamão']\n"
          ]
        }
      ]
    },
    {
      "cell_type": "code",
      "source": [
        "import math\n",
        "\n",
        "numeros = [2, 8, 15, 23, 91, 112, 256]\n",
        "\n",
        "for n in numeros:\n",
        "  resultado = math.sqrt(n)\n",
        "\n",
        "  if resultado.is_integer():\n",
        "    print(f'O número {resultado} é inteiro.')\n",
        "  if resultado.is_integer() == False:\n",
        "    print(f'O número {resultado} é decimal.')"
      ],
      "metadata": {
        "colab": {
          "base_uri": "https://localhost:8080/"
        },
        "id": "v3fWSDgG8RRz",
        "outputId": "c4241470-c898-4e51-9fd1-1cfc877bd636"
      },
      "execution_count": null,
      "outputs": [
        {
          "output_type": "stream",
          "name": "stdout",
          "text": [
            "O número 1.4142135623730951 é decimal.\n",
            "O número 2.8284271247461903 é decimal.\n",
            "O número 3.872983346207417 é decimal.\n",
            "O número 4.795831523312719 é decimal.\n",
            "O número 9.539392014169456 é decimal.\n",
            "O número 10.583005244258363 é decimal.\n",
            "O número 16.0 é inteiro.\n"
          ]
        }
      ]
    },
    {
      "cell_type": "markdown",
      "source": [],
      "metadata": {
        "id": "u1ik8oFg-Kpk"
      }
    },
    {
      "cell_type": "code",
      "source": [
        "import math\n",
        "\n",
        "preco_metro_quadrado = 25\n",
        "raio_da_area = input('Digite o raio da área a ser instalada a grama: ')\n",
        "\n",
        "valor_total = float(math.pi * (int(raio_da_area) ** 2) * preco_metro_quadrado)\n",
        "\n",
        "print(f'O valor total da instalação é: R$' \"%.2f\" % valor_total)"
      ],
      "metadata": {
        "colab": {
          "base_uri": "https://localhost:8080/"
        },
        "id": "dkZVjc1Z9BBG",
        "outputId": "111dd6e5-b7d0-422a-a642-6b4e56f8434b"
      },
      "execution_count": null,
      "outputs": [
        {
          "output_type": "stream",
          "name": "stdout",
          "text": [
            "Digite o raio da área a ser instalada a grama: 2\n",
            "O valor total da instalação é: R$314.16\n"
          ]
        }
      ]
    },
    {
      "cell_type": "code",
      "source": [],
      "metadata": {
        "id": "zaNwIcu3-3W0"
      },
      "execution_count": null,
      "outputs": []
    }
  ]
}