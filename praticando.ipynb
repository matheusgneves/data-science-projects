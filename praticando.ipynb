{
  "nbformat": 4,
  "nbformat_minor": 0,
  "metadata": {
    "colab": {
      "provenance": [],
      "authorship_tag": "ABX9TyPFXr1wrNF02mNfXXfoDSKQ",
      "include_colab_link": true
    },
    "kernelspec": {
      "name": "python3",
      "display_name": "Python 3"
    },
    "language_info": {
      "name": "python"
    }
  },
  "cells": [
    {
      "cell_type": "markdown",
      "metadata": {
        "id": "view-in-github",
        "colab_type": "text"
      },
      "source": [
        "<a href=\"https://colab.research.google.com/github/matheusgneves/data-science-projects/blob/main/praticando.ipynb\" target=\"_parent\"><img src=\"https://colab.research.google.com/assets/colab-badge.svg\" alt=\"Open In Colab\"/></a>"
      ]
    },
    {
      "cell_type": "markdown",
      "source": [
        "#Coleta e amostragem de dados"
      ],
      "metadata": {
        "id": "bKnwbzgFWQWf"
      }
    },
    {
      "cell_type": "code",
      "execution_count": null,
      "metadata": {
        "colab": {
          "base_uri": "https://localhost:8080/"
        },
        "id": "LGKpGCXtVO4e",
        "outputId": "ccb16639-442a-4ba4-bb31-b909f28a4ad1"
      },
      "outputs": [
        {
          "output_type": "stream",
          "name": "stdout",
          "text": [
            "Digite seu nome: Matheus\n",
            "Digite sua idade: 30\n",
            "Digite sua altura em metros: 1,85\n",
            "Olá,  Matheus ! Seja bem-vindo(a)! Você tem 30 e mede  1,85\n"
          ]
        }
      ],
      "source": [
        "nome_pessoa = input('Digite seu nome: ')\n",
        "idade_pessoa = input('Digite sua idade: ')\n",
        "altura_pessoa = input('Digite sua altura em metros: ')\n",
        "\n",
        "print(f'Olá,', nome_pessoa, '! Seja bem-vindo(a)! Você tem', idade_pessoa, 'anos e mede', altura_pessoa)"
      ]
    },
    {
      "cell_type": "markdown",
      "source": [
        "#Calculadora com operadores"
      ],
      "metadata": {
        "id": "xdIZACReWaul"
      }
    },
    {
      "cell_type": "code",
      "source": [
        "numero1 = int(input('Digite um número: '))\n",
        "numero2 = int(input('Digite outro número: '))\n",
        "\n",
        "print(f'A soma dos números é:', numero1 + numero2)"
      ],
      "metadata": {
        "colab": {
          "base_uri": "https://localhost:8080/"
        },
        "id": "CD_-WwqiViQN",
        "outputId": "7ed4cb25-0b21-4161-aead-f10ed72d57f1"
      },
      "execution_count": null,
      "outputs": [
        {
          "output_type": "stream",
          "name": "stdout",
          "text": [
            "Digite um número: 123\n",
            "Digite outro número: 124\n",
            "A soma dos números é: 247\n"
          ]
        }
      ]
    },
    {
      "cell_type": "code",
      "source": [
        "numero1 = int(input('Digite um número: '))\n",
        "numero2 = int(input('Digite outro número: '))\n",
        "numero3 = int(input('Digite outro número: '))\n",
        "\n",
        "print(f'A soma dos números é:', numero1 + numero2 + numero3)"
      ],
      "metadata": {
        "colab": {
          "base_uri": "https://localhost:8080/"
        },
        "id": "MjbR0_eoWzW5",
        "outputId": "93615841-bee3-4bad-ae09-23c77fc4d17f"
      },
      "execution_count": null,
      "outputs": [
        {
          "output_type": "stream",
          "name": "stdout",
          "text": [
            "Digite um número: 43324\n",
            "Digite outro número: 15433\n",
            "Digite outro número: 154534\n",
            "A soma dos números é: 213291\n"
          ]
        }
      ]
    },
    {
      "cell_type": "code",
      "source": [
        "numero1 = int(input('Digite um número: '))\n",
        "numero2 = int(input('Digite outro número: '))\n",
        "\n",
        "print(f'A subtração dos números é:', numero1 - numero2)"
      ],
      "metadata": {
        "colab": {
          "base_uri": "https://localhost:8080/"
        },
        "id": "WQLyVqLfW-f0",
        "outputId": "f42bff8e-0c00-4a5c-a030-15e30b595d57"
      },
      "execution_count": null,
      "outputs": [
        {
          "output_type": "stream",
          "name": "stdout",
          "text": [
            "Digite um número: 24\n",
            "Digite outro número: 44\n",
            "A subtração dos números é: -20\n"
          ]
        }
      ]
    },
    {
      "cell_type": "code",
      "source": [
        "numero1 = int(input('Digite um número: '))\n",
        "numero2 = int(input('Digite outro número: '))\n",
        "\n",
        "print(f'A multiplicação dos números é:', numero1 * numero2)"
      ],
      "metadata": {
        "colab": {
          "base_uri": "https://localhost:8080/"
        },
        "id": "lc3Op_8CXWgG",
        "outputId": "88ce5924-833c-4da4-b428-00ba7442d349"
      },
      "execution_count": null,
      "outputs": [
        {
          "output_type": "stream",
          "name": "stdout",
          "text": [
            "Digite um número: 10\n",
            "Digite outro número: 10\n",
            "A multiplicação dos números é: 100\n"
          ]
        }
      ]
    },
    {
      "cell_type": "code",
      "source": [
        "numero1 = int(input('Digite um enumerador: '))\n",
        "numero2 = int(input('Digite um denominador: '))\n",
        "\n",
        "print(f'O resultado da divisão dos números é:', numero1 / numero2)"
      ],
      "metadata": {
        "colab": {
          "base_uri": "https://localhost:8080/"
        },
        "id": "u09dsIqfXiWO",
        "outputId": "f304c082-3275-4955-c435-56d0682a2a78"
      },
      "execution_count": null,
      "outputs": [
        {
          "output_type": "stream",
          "name": "stdout",
          "text": [
            "Digite um enumerador: 10\n",
            "Digite outro denominador: 2\n",
            "O resultado da divisão dos números é: 5.0\n"
          ]
        }
      ]
    },
    {
      "cell_type": "code",
      "source": [
        "numero1 = int(input('Digite um número operador: '))\n",
        "numero2 = int(input('Digite a potência que o operador será elevado: '))\n",
        "\n",
        "print(f'O resultado da exponenciação dos números é:', numero1 ** numero2)"
      ],
      "metadata": {
        "colab": {
          "base_uri": "https://localhost:8080/"
        },
        "id": "twLFurkYXyZM",
        "outputId": "724c902f-8bdc-49fb-8a29-10b643a9dbd4"
      },
      "execution_count": null,
      "outputs": [
        {
          "output_type": "stream",
          "name": "stdout",
          "text": [
            "Digite um número: 10\n",
            "Digite outro número: 2\n",
            "O resultado da exponenciação dos números é: 100\n"
          ]
        }
      ]
    },
    {
      "cell_type": "code",
      "source": [
        "numero1 = int(input('Digite um enumerador: '))\n",
        "numero2 = int(input('Digite um denominador: '))\n",
        "\n",
        "if numero2 == 0:\n",
        "  print('Não é possível dividir por zero')\n",
        "else:\n",
        "  print(f'O resultado da divisão dos números é:', numero1 / numero2)"
      ],
      "metadata": {
        "colab": {
          "base_uri": "https://localhost:8080/"
        },
        "id": "9AyjUhGUYDS9",
        "outputId": "f6a542c7-6d60-43f7-b659-3e3ce0385111"
      },
      "execution_count": null,
      "outputs": [
        {
          "output_type": "stream",
          "name": "stdout",
          "text": [
            "Digite um enumerador: 10\n",
            "Digite um denominador: 2\n",
            "O resultado da divisão dos números é: 5.0\n"
          ]
        }
      ]
    },
    {
      "cell_type": "code",
      "source": [
        "nota1 = float(input('Digite a primeira nota: '))\n",
        "nota2 = float(input('Digite a segunda nota: '))\n",
        "nota3 = float(input('Digite a terceira nota: '))\n",
        "\n",
        "media = (nota1 + nota2 + nota3) / 3\n",
        "\n",
        "print(f'A média das notas é:', media)"
      ],
      "metadata": {
        "colab": {
          "base_uri": "https://localhost:8080/"
        },
        "id": "W13o7fvRYhGc",
        "outputId": "d1352649-fc7a-4c2f-cea9-2710508584f7"
      },
      "execution_count": null,
      "outputs": [
        {
          "output_type": "stream",
          "name": "stdout",
          "text": [
            "Digite a primeira nota: 10\n",
            "Digite a segunda nota: 2\n",
            "Digite a terceira nota: 5\n",
            "A média das notas é: 5.666666666666667\n"
          ]
        }
      ]
    },
    {
      "cell_type": "code",
      "source": [
        "nota1 = float(input('Digite a primeira nota: '))\n",
        "nota2 = float(input('Digite a segunda nota: '))\n",
        "nota3 = float(input('Digite a terceira nota: '))\n",
        "nota4 = float(input('Digite a quarta nota: '))\n",
        "\n",
        "peso1 = 1\n",
        "peso2 = 2\n",
        "peso3 = 3\n",
        "peso4 = 4\n",
        "\n",
        "media = ((nota1 * peso1) + (nota2 * peso2) + (nota3 * peso3) + (nota4 * peso4)) / (peso1 + peso2 + peso3 + peso4)\n",
        "\n",
        "print(f'A média das notas é:', media)"
      ],
      "metadata": {
        "colab": {
          "base_uri": "https://localhost:8080/"
        },
        "id": "_S_6AUk5Y4ia",
        "outputId": "ac1fa6fd-254c-492e-d4f3-1ce74bb3b37b"
      },
      "execution_count": null,
      "outputs": [
        {
          "output_type": "stream",
          "name": "stdout",
          "text": [
            "Digite a primeira nota: 7\n",
            "Digite a segunda nota: 6\n",
            "Digite a terceira nota: 3\n",
            "Digite a quarta nota: 10\n",
            "A média das notas é: 6.8\n"
          ]
        }
      ]
    },
    {
      "cell_type": "markdown",
      "source": [
        "#Editando textos"
      ],
      "metadata": {
        "id": "2AOrKFLaaLcG"
      }
    },
    {
      "cell_type": "code",
      "source": [
        "frase = 'Olá, mundo!'\n",
        "print(frase)"
      ],
      "metadata": {
        "colab": {
          "base_uri": "https://localhost:8080/"
        },
        "id": "DSONx59iZx2a",
        "outputId": "530e1dbd-2110-4b0f-feab-ada685b03c80"
      },
      "execution_count": null,
      "outputs": [
        {
          "output_type": "stream",
          "name": "stdout",
          "text": [
            "Olá, mundo!\n"
          ]
        }
      ]
    },
    {
      "cell_type": "code",
      "source": [
        "frase = input('Digite uma frase: ')\n",
        "print(frase)"
      ],
      "metadata": {
        "colab": {
          "base_uri": "https://localhost:8080/"
        },
        "id": "mPDJBoHKalTZ",
        "outputId": "a1dd67b1-53ba-4e88-f406-d6a69c7729db"
      },
      "execution_count": null,
      "outputs": [
        {
          "output_type": "stream",
          "name": "stdout",
          "text": [
            "Digite uma frase: olá glr\n",
            "olá glr\n"
          ]
        }
      ]
    },
    {
      "cell_type": "code",
      "source": [
        "frase = input('Digite uma frase: ')\n",
        "print(frase.upper())"
      ],
      "metadata": {
        "colab": {
          "base_uri": "https://localhost:8080/"
        },
        "id": "3I1DYRnwao29",
        "outputId": "83debf3a-56c3-4ad3-8e1b-b71fc1d112fc"
      },
      "execution_count": null,
      "outputs": [
        {
          "output_type": "stream",
          "name": "stdout",
          "text": [
            "Digite uma frase: wqesd\n",
            "WQESD\n"
          ]
        }
      ]
    },
    {
      "cell_type": "code",
      "source": [
        "frase = input('Digite uma frase: ')\n",
        "print(frase.lower())"
      ],
      "metadata": {
        "colab": {
          "base_uri": "https://localhost:8080/"
        },
        "id": "1yjsCgKjavML",
        "outputId": "884766e8-1097-4faa-e6a2-737e7beab5eb"
      },
      "execution_count": null,
      "outputs": [
        {
          "output_type": "stream",
          "name": "stdout",
          "text": [
            "Digite uma frase: ASDASDS\n",
            "asdasds\n"
          ]
        }
      ]
    },
    {
      "cell_type": "code",
      "source": [
        "frase = '   Olá, mundo!   '\n",
        "print(frase.strip())"
      ],
      "metadata": {
        "colab": {
          "base_uri": "https://localhost:8080/"
        },
        "id": "2KyEfCRCazyb",
        "outputId": "a77be93d-f4fc-46be-d491-b018953e1eeb"
      },
      "execution_count": null,
      "outputs": [
        {
          "output_type": "stream",
          "name": "stdout",
          "text": [
            "Olá, mundo!\n"
          ]
        }
      ]
    },
    {
      "cell_type": "code",
      "source": [
        "frase = input('Digite uma frase: ')\n",
        "print(frase.strip().lower())"
      ],
      "metadata": {
        "colab": {
          "base_uri": "https://localhost:8080/"
        },
        "id": "WzlIjpaZa-E_",
        "outputId": "001572f3-cf73-43d5-fa8c-ff7442bdafc8"
      },
      "execution_count": null,
      "outputs": [
        {
          "output_type": "stream",
          "name": "stdout",
          "text": [
            "Digite uma frase:   ASDASDAS  *\n",
            "asdasdas  *\n"
          ]
        }
      ]
    },
    {
      "cell_type": "code",
      "source": [
        "frase = input('Digite uma frase: ')\n",
        "print(frase.replace('e', 'f'))"
      ],
      "metadata": {
        "colab": {
          "base_uri": "https://localhost:8080/"
        },
        "id": "VroHxiqDbLgC",
        "outputId": "806a450b-ab24-4995-fd78-2dbaf7f3e516"
      },
      "execution_count": null,
      "outputs": [
        {
          "output_type": "stream",
          "name": "stdout",
          "text": [
            "Digite uma frase: eeeeeeeeee\n",
            "ffffffffff\n"
          ]
        }
      ]
    },
    {
      "cell_type": "code",
      "source": [
        "frase = input('Digite uma frase: ')\n",
        "print(frase.replace('a', '@'))"
      ],
      "metadata": {
        "colab": {
          "base_uri": "https://localhost:8080/"
        },
        "id": "NvWIMW_Dc3Kw",
        "outputId": "5f8728fb-8176-4a39-8513-b76da92f4602"
      },
      "execution_count": null,
      "outputs": [
        {
          "output_type": "stream",
          "name": "stdout",
          "text": [
            "Digite uma frase: aaaaaaaaaaa\n",
            "@@@@@@@@@@@\n"
          ]
        }
      ]
    },
    {
      "cell_type": "code",
      "source": [
        "frase = input('Digite uma frase: ')\n",
        "print(frase.replace('s', '$'))"
      ],
      "metadata": {
        "colab": {
          "base_uri": "https://localhost:8080/"
        },
        "id": "8gVSdai_c9HW",
        "outputId": "bfb23fed-7c9f-43d6-b977-55e4d4b8d780"
      },
      "execution_count": null,
      "outputs": [
        {
          "output_type": "stream",
          "name": "stdout",
          "text": [
            "Digite uma frase: ssssssssssss\n",
            "$$$$$$$$$$$$\n"
          ]
        }
      ]
    },
    {
      "cell_type": "code",
      "source": [],
      "metadata": {
        "id": "nGG_ElkqdAz-"
      },
      "execution_count": null,
      "outputs": []
    },
    {
      "cell_type": "markdown",
      "source": [],
      "metadata": {
        "id": "IN85Irr66eec"
      }
    },
    {
      "cell_type": "markdown",
      "source": [
        "#Aquecendo na programação"
      ],
      "metadata": {
        "id": "tCtCkWk76gcn"
      }
    },
    {
      "cell_type": "code",
      "source": [
        "numero_1 = int(input('Digite um número: '))\n",
        "numero_2 = int(input('Digite outro número: '))\n",
        "\n",
        "if numero_1 > numero_2:\n",
        "  print(f'O número {numero_1} é maior que o número {numero_2}.')\n",
        "else:\n",
        "  print(f'O número {numero_2} é maior que o número {numero_1}.')"
      ],
      "metadata": {
        "colab": {
          "base_uri": "https://localhost:8080/"
        },
        "id": "tNO-Kt346k5g",
        "outputId": "3ddd454f-8876-48ba-abee-b01bed8542cf"
      },
      "execution_count": null,
      "outputs": [
        {
          "output_type": "stream",
          "name": "stdout",
          "text": [
            "Digite um número: 9\n",
            "Digite outro número: 11\n",
            "O número 11 é maior que o número 9.\n"
          ]
        }
      ]
    },
    {
      "cell_type": "code",
      "source": [
        "porcentagem_1 = float(input('Digite a porcentagem de crescimento da empresa neste ano: '))\n",
        "porcentagem_2 = float(input('Digite a porcentagem de crescimento da empresa ano passado: '))\n",
        "\n",
        "if porcentagem_1 > porcentagem_2:\n",
        "  print(f'A empresa teve um crescimento de {porcentagem_1 - porcentagem_2}% em relação ao ano passado.')\n",
        "elif porcentagem_1 == porcentagem_2:\n",
        "  print(f'A empresa manteve o mesmo crescimento em relação ao ano passado.')\n",
        "else:\n",
        "  print(f'A empresa teve um decrescimento de {porcentagem_2 - porcentagem_1}% em relação ao ano passado.')"
      ],
      "metadata": {
        "colab": {
          "base_uri": "https://localhost:8080/"
        },
        "id": "8fWXtLD_60cF",
        "outputId": "a50d8d9e-16ce-4ac8-e6ba-76c347eb1630"
      },
      "execution_count": null,
      "outputs": [
        {
          "output_type": "stream",
          "name": "stdout",
          "text": [
            "Digite a porcentagem de crescimento da empresa neste ano: 50\n",
            "Digite a porcentagem de crescimento da empresa ano passado: 50\n",
            "A empresa manteve o mesmo crescimento em relação ao ano passado.\n"
          ]
        }
      ]
    },
    {
      "cell_type": "code",
      "source": [
        "letra = input('Digite uma letra: ')\n",
        "\n",
        "if letra == 'a' or letra == 'e' or letra == 'i' or letra == 'o' or letra == 'u':\n",
        "  print(f'A letra {letra} é uma vogal.')\n",
        "else:\n",
        "  print(f'A letra {letra} é uma consoante.')"
      ],
      "metadata": {
        "colab": {
          "base_uri": "https://localhost:8080/"
        },
        "id": "KnivnSPW7ifX",
        "outputId": "da2b10af-bdaf-429a-8ad7-307bb25e414d"
      },
      "execution_count": null,
      "outputs": [
        {
          "output_type": "stream",
          "name": "stdout",
          "text": [
            "Digite uma letra: p\n",
            "A letra p é uma consoante.\n"
          ]
        }
      ]
    },
    {
      "cell_type": "code",
      "source": [
        "valor_medio_carro_1 = float(input('Digite o valor médio do carro no ano de 2022: '))\n",
        "valor_medio_carro_2 = float(input('Digite o valor médio do carro no ano de 2023: '))\n",
        "valor_medio_carro_3 = float(input('Digite o valor médio do carro no ano de 2024: '))\n",
        "\n",
        "if valor_medio_carro_1 > valor_medio_carro_2 and valor_medio_carro_1 > valor_medio_carro_3:\n",
        "  print(f'O ano de 2022 foi o ano com o maior valor médio do carro.')\n",
        "elif valor_medio_carro_2 > valor_medio_carro_1 and valor_medio_carro_2 > valor_medio_carro_3:\n",
        "  print(f'O ano de 2023 foi o ano com o maior valor médio do carro.')\n",
        "else:\n",
        "  print(f'O ano de 2024 foi o ano com o maior valor médio do carro.')"
      ],
      "metadata": {
        "colab": {
          "base_uri": "https://localhost:8080/"
        },
        "id": "ETJSEELK7_5p",
        "outputId": "937d675c-7a91-45db-90fa-e0f4d1986f6c"
      },
      "execution_count": null,
      "outputs": [
        {
          "output_type": "stream",
          "name": "stdout",
          "text": [
            "Digite o valor médio do carro no ano de 2022: 1000\n",
            "Digite o valor médio do carro no ano de 2023: 1100\n",
            "Digite o valor médio do carro no ano de 2024: 900\n",
            "O ano de 2023 foi o ano com o maior valor médio do carro.\n"
          ]
        }
      ]
    },
    {
      "cell_type": "code",
      "source": [
        "produtos = [float(input('Digite o valor do primeiro produto: ')), float(input('Digite o valor do segundo produto: ')), float(input('Digite o valor do terceiro produto: '))]\n",
        "\n",
        "print(f'O produto mais barato custa R${min(produtos)}.')"
      ],
      "metadata": {
        "colab": {
          "base_uri": "https://localhost:8080/"
        },
        "id": "mH_VL7S58pDN",
        "outputId": "dc0c2014-cbb7-44aa-b344-e23b59a20ada"
      },
      "execution_count": null,
      "outputs": [
        {
          "output_type": "stream",
          "name": "stdout",
          "text": [
            "Digite o valor do primeiro produto: 10\n",
            "Digite o valor do segundo produto: 20\n",
            "Digite o valor do terceiro produto: 30\n",
            "O produto mais barato custa R$10.0.\n"
          ]
        }
      ]
    },
    {
      "cell_type": "code",
      "source": [
        "numeros = [float(input('Digite o primeiro numero: ')), float(input('Digite o segundo numero: ')), float(input('Digite o terceiro numero: '))]\n",
        "\n",
        "print(f'Os numeros ficam ordenados da seguinte maneira em ordem decrescente: {sorted(numeros, reverse=False)}.')"
      ],
      "metadata": {
        "colab": {
          "base_uri": "https://localhost:8080/"
        },
        "id": "2btP7BME9ySH",
        "outputId": "31fc0c58-4727-462e-acf0-a82acd3ff972"
      },
      "execution_count": null,
      "outputs": [
        {
          "output_type": "stream",
          "name": "stdout",
          "text": [
            "Digite o primeiro numero: 1\n",
            "Digite o segundo numero: 5\n",
            "Digite o terceiro numero: 3\n",
            "Os numeros ficam ordenados da seguinte maneira em ordem decrescente: [1.0, 3.0, 5.0].\n"
          ]
        }
      ]
    },
    {
      "cell_type": "code",
      "source": [
        "turno = input('Digite o turno que você estuda: ')\n",
        "\n",
        "if turno == 'M':\n",
        "  print(f'Bom dia!')\n",
        "elif turno == 'T':\n",
        "  print(f'Boa tarde!')\n",
        "elif turno == 'N':\n",
        "  print(f'Boa noite!')\n",
        "else:\n",
        "  print(f'Valor inválido!')"
      ],
      "metadata": {
        "colab": {
          "base_uri": "https://localhost:8080/"
        },
        "id": "gMQpCM_E_E0d",
        "outputId": "ba03b556-d104-40dd-b379-ca84bfe54682"
      },
      "execution_count": null,
      "outputs": [
        {
          "output_type": "stream",
          "name": "stdout",
          "text": [
            "Digite o turno que você estuda: w\n",
            "Valor inválido!\n"
          ]
        }
      ]
    },
    {
      "cell_type": "code",
      "source": [
        "numero_1 = float(input('Digite um número: '))\n",
        "\n",
        "if numero_1 % 2 == 0:\n",
        "  print(f'O número {numero_1} é par.')\n",
        "else:\n",
        "  print(f'O número {numero_1} é ímpar.')"
      ],
      "metadata": {
        "colab": {
          "base_uri": "https://localhost:8080/"
        },
        "id": "Vj3o-ueL_oKd",
        "outputId": "989f9247-6590-4ca0-f6db-1962479a81c3"
      },
      "execution_count": null,
      "outputs": [
        {
          "output_type": "stream",
          "name": "stdout",
          "text": [
            "Digite um número: 27 \n",
            "O número 27.0 é ímpar.\n"
          ]
        }
      ]
    },
    {
      "cell_type": "code",
      "source": [
        "numero_1 = input('Digite um número: ')\n",
        "\n",
        "if '.' not in numero_1:\n",
        "  print(f'O número {numero_1} é inteiro.')\n",
        "else:\n",
        "  print(f'O número {numero_1} é decimal.')"
      ],
      "metadata": {
        "colab": {
          "base_uri": "https://localhost:8080/"
        },
        "id": "zZffz3lKAR7D",
        "outputId": "c5e68e62-8607-4162-fb73-d07e3d1985cb"
      },
      "execution_count": null,
      "outputs": [
        {
          "output_type": "stream",
          "name": "stdout",
          "text": [
            "Digite um número: 10.2\n",
            "O número 10.2 é decimal.\n"
          ]
        }
      ]
    },
    {
      "cell_type": "markdown",
      "source": [
        "#Momento dos projetos"
      ],
      "metadata": {
        "id": "6oCuXYkJBaZB"
      }
    },
    {
      "cell_type": "code",
      "source": [
        "numero_1 = float(input('Digite um número: '))\n",
        "numero_2 = float(input('Digite outro número: '))\n",
        "operacao = input('Digite a operação que deseja realizar: ')\n",
        "resultado = None\n",
        "\n",
        "if operacao == '+':\n",
        "  resultado = numero_1 + numero_2\n",
        "  print(f'A soma dos números é:', resultado)\n",
        "elif operacao == '-':\n",
        "  resultado = numero_1 - numero_2\n",
        "  print(f'A subtração dos números é:', resultado)\n",
        "elif operacao == '*':\n",
        "  resultado = numero_1 * numero_2\n",
        "  print(f'A multiplicação dos números é:', resultado)\n",
        "elif operacao == '/':\n",
        "  resultado = numero_1 / numero_2\n",
        "  print(f'A divisão dos números é:', resultado)\n",
        "else:\n",
        "  print(f'Operação inválida!')\n",
        "\n",
        "if resultado != None:\n",
        "  if resultado % 2 == 0:\n",
        "    print(f'O número {resultado} é par.')\n",
        "  if resultado % 2 == 1:\n",
        "    print(f'O número {resultado} é ímpar.')\n",
        "  if resultado > 0:\n",
        "    print(f'O número {resultado} é positivo.')\n",
        "  if resultado < 0:\n",
        "    print(f'O número {resultado} é negativo.')\n",
        "  if resultado == 0:\n",
        "    print(f'O número {resultado} é neutro.')\n",
        "  if resultado.is_integer():\n",
        "    print(f'O número {resultado} é inteiro.')\n",
        "  if resultado.is_integer() == False:\n",
        "    print(f'O número {resultado} é decimal.')\n",
        "\n"
      ],
      "metadata": {
        "colab": {
          "base_uri": "https://localhost:8080/"
        },
        "id": "RD9dKUdTAr5L",
        "outputId": "d67febb6-36eb-404c-b389-695e5a1db5c6"
      },
      "execution_count": null,
      "outputs": [
        {
          "output_type": "stream",
          "name": "stdout",
          "text": [
            "Digite um número: 10\n",
            "Digite outro número: 7\n",
            "Digite a operação que deseja realizar: /\n",
            "A divisão dos números é: 1.4285714285714286\n",
            "O número 1.4285714285714286 é positivo.\n",
            "O número 1.4285714285714286 é decimal.\n"
          ]
        }
      ]
    },
    {
      "cell_type": "code",
      "source": [
        "lado_triangulo_1 = float(input('Digite o primeiro lado do triângulo: '))\n",
        "lado_triangulo_2 = float(input('Digite o segundo lado do triângulo: '))\n",
        "lado_triangulo_3 = float(input('Digite o terceiro lado do triângulo: '))\n",
        "e_triangulo = False\n",
        "\n",
        "if lado_triangulo_1 < (lado_triangulo_2 + lado_triangulo_3) or lado_triangulo_2 < (lado_triangulo_1 + lado_triangulo_3) or lado_triangulo_3 < (lado_triangulo_1 + lado_triangulo_2):\n",
        "  e_triangulo = True\n",
        "else:\n",
        "  print('Não é possível formar um triangulo com esses valores.')\n",
        "\n",
        "if e_triangulo == True:\n",
        "  if lado_triangulo_1 == lado_triangulo_2 == lado_triangulo_3:\n",
        "    print('O triângulo é equilátero.')\n",
        "  elif lado_triangulo_1 == lado_triangulo_2 or lado_triangulo_1 == lado_triangulo_3 or lado_triangulo_2 == lado_triangulo_3:\n",
        "    print('O triângulo é isósceles.')\n",
        "  else:\n",
        "    print('O triângulo é escaleno.')"
      ],
      "metadata": {
        "colab": {
          "base_uri": "https://localhost:8080/"
        },
        "id": "wNxAuSUAEL_U",
        "outputId": "2b667aeb-1123-43f7-bc4a-b7307541b622"
      },
      "execution_count": null,
      "outputs": [
        {
          "output_type": "stream",
          "name": "stdout",
          "text": [
            "Digite o primeiro lado do triângulo: 10\n",
            "Digite o segundo lado do triângulo: 15\n",
            "Digite o terceiro lado do triângulo: 10\n",
            "O triângulo é isósceles.\n"
          ]
        }
      ]
    },
    {
      "cell_type": "code",
      "source": [
        "tipo_combustivel = input('Digite o tipo de combustível que deseja abastecer: ')\n",
        "preco_etanol = 1.70\n",
        "preco_diesel = 2\n",
        "numero_litros = float(input('Digite a quantidade de litros de combustível que deseja abastecer: '))\n",
        "\n",
        "#Etanol\n",
        "if tipo_combustivel == 'E':\n",
        "  if numero_litros <= 15:\n",
        "    print(f'O valor a ser pago com desconto é de R${(preco_etanol * numero_litros) * 0.98}.')\n",
        "  else:\n",
        "    print(f'O valor a ser pago com desconto é de R${(preco_etanol * numero_litros) * 0.96}.')\n",
        "\n",
        "#Diesel\n",
        "elif tipo_combustivel == 'D':\n",
        "  if numero_litros <= 15:\n",
        "    print(f'O valor a ser pago com desconto é de R${(preco_etanol * numero_litros) * 0.97}.')\n",
        "  else:\n",
        "    print(f'O valor a ser pago com desconto é de R${(preco_etanol * numero_litros) * 0.95}.')"
      ],
      "metadata": {
        "colab": {
          "base_uri": "https://localhost:8080/"
        },
        "id": "-97iao-zKlwx",
        "outputId": "d3ba7665-aa47-43a8-cbf9-e8a13d41e163"
      },
      "execution_count": null,
      "outputs": [
        {
          "output_type": "stream",
          "name": "stdout",
          "text": [
            "Digite o tipo de combustível que deseja abastecer: A\n",
            "Digite a quantidade de litros de combustível que deseja abastecer: 16\n",
            "O valor a ser pago com desconto é de R$26.112.\n"
          ]
        }
      ]
    },
    {
      "cell_type": "code",
      "source": [
        "# Coletamos as vendas dos dois anos\n",
        "venda_2022 = float(input('Informe a quantidade de vendas em 2022: '))\n",
        "venda_2023 = float(input('Informe a quantidade de vendas em 2023: '))\n",
        "\n",
        "# Calculamos a variação percentual entre as vendas dos anos de 2022 e 2023\n",
        "var_percentual = 100 * (venda_2023 - venda_2022) / (venda_2022)\n",
        "\n",
        "# Análise condicional da variação percentual para determinar a sugestão a ser enviada\n",
        "if var_percentual > 20:\n",
        "    print('Bonificação para o time de vendas.')\n",
        "elif 2 <= var_percentual <= 20:\n",
        "    print('Pequena bonificação para time de vendas.')\n",
        "elif -10 <= var_percentual < 2:\n",
        "    print('Planejamento de políticas de incentivo às vendas.')\n",
        "else:\n",
        "    print('Corte de gastos.')"
      ],
      "metadata": {
        "id": "WjG7BmYdNNyt"
      },
      "execution_count": null,
      "outputs": []
    },
    {
      "cell_type": "markdown",
      "source": [
        "#Aquecendo na programação (for e while)"
      ],
      "metadata": {
        "id": "xf--7-vrMDyU"
      }
    },
    {
      "cell_type": "code",
      "source": [
        "numero_1 = int(input('Digite um número inicial: '))\n",
        "numero_2 = int(input('Digite um número final: '))\n",
        "\n",
        "for i in range(numero_1, numero_2 + 1):\n",
        "  print(i)"
      ],
      "metadata": {
        "colab": {
          "base_uri": "https://localhost:8080/"
        },
        "id": "aOfln89-MGep",
        "outputId": "4753fc08-3052-4cc8-ed6e-6467222bd438"
      },
      "execution_count": null,
      "outputs": [
        {
          "output_type": "stream",
          "name": "stdout",
          "text": [
            "Digite um número inicial: 1\n",
            "Digite um número final: 10\n",
            "1\n",
            "2\n",
            "3\n",
            "4\n",
            "5\n",
            "6\n",
            "7\n",
            "8\n",
            "9\n",
            "10\n"
          ]
        }
      ]
    },
    {
      "cell_type": "code",
      "source": [
        "colonia_a = 4\n",
        "colonia_b = 10\n",
        "dias = 0\n",
        "\n",
        "while colonia_a <= colonia_b:\n",
        "  colonia_a = colonia_a * 1.03\n",
        "  colonia_b = colonia_b * 1.015\n",
        "  dias += 1\n",
        "\n",
        "if colonia_a >= colonia_b:\n",
        "  print(f'Serão necessários', dias, 'dias para que a Colonia A alcance ou ultrapasse a Colonia B')"
      ],
      "metadata": {
        "colab": {
          "base_uri": "https://localhost:8080/"
        },
        "id": "FqFi-ml_MVi7",
        "outputId": "ae8bd56a-12b5-436f-e77a-c6146de1d477"
      },
      "execution_count": null,
      "outputs": [
        {
          "output_type": "stream",
          "name": "stdout",
          "text": [
            "Serão necessários 63 dias para que a Colonia A alcance ou ultrapasse a Colonia B\n"
          ]
        }
      ]
    },
    {
      "cell_type": "code",
      "source": [
        "dados = 15\n",
        "i = 1\n",
        "\n",
        "while i <= dados:\n",
        "  nota_da_empresa = float(input('Digite a nota da empresa: '))\n",
        "\n",
        "  if nota_da_empresa < 0 or nota_da_empresa > 5:\n",
        "    print('Nota inválida! A nota deve ser maior ou igual a 0 e menor ou igual a 5.')\n",
        "  else:\n",
        "    i += 1"
      ],
      "metadata": {
        "colab": {
          "base_uri": "https://localhost:8080/"
        },
        "id": "bf2pNFAGOLGC",
        "outputId": "672e53ea-b511-4f0c-ae63-9fe84a9104ed"
      },
      "execution_count": null,
      "outputs": [
        {
          "name": "stdout",
          "output_type": "stream",
          "text": [
            "Digite a nota da empresa: 6\n",
            "Nota inválida!\n",
            "Digite a nota da empresa: 1\n",
            "Digite a nota da empresa: 1\n",
            "Digite a nota da empresa: 1\n",
            "Digite a nota da empresa: 1\n",
            "Digite a nota da empresa: 1\n",
            "Digite a nota da empresa: 1\n",
            "Digite a nota da empresa: 1\n",
            "Digite a nota da empresa: 1\n",
            "Digite a nota da empresa: 1\n",
            "Digite a nota da empresa: 1\n",
            "Digite a nota da empresa: 1\n",
            "Digite a nota da empresa: 1\n",
            "Digite a nota da empresa: 1\n",
            "Digite a nota da empresa: 1\n",
            "Digite a nota da empresa: 1\n"
          ]
        }
      ]
    },
    {
      "cell_type": "code",
      "source": [
        "temperatura = 0\n",
        "\n",
        "while temperatura != float(-273):\n",
        "  temperatura = float(input('Digite a temperatura atual em Celsius: '))"
      ],
      "metadata": {
        "colab": {
          "base_uri": "https://localhost:8080/"
        },
        "id": "M2c7BOkTTd0W",
        "outputId": "cf750562-a911-43f5-ad97-029e49ccbdeb"
      },
      "execution_count": null,
      "outputs": [
        {
          "name": "stdout",
          "output_type": "stream",
          "text": [
            "Digite a temperatura atual em Celsius: 12\n",
            "Digite a temperatura atual em Celsius: 423\n",
            "Digite a temperatura atual em Celsius: 543\n",
            "Digite a temperatura atual em Celsius: 232\n",
            "Digite a temperatura atual em Celsius: 33\n",
            "Digite a temperatura atual em Celsius: 111\n",
            "Digite a temperatura atual em Celsius: 5556\n",
            "Digite a temperatura atual em Celsius: 5343423\n",
            "Digite a temperatura atual em Celsius: 5354645\n",
            "Digite a temperatura atual em Celsius: 623423\n",
            "Digite a temperatura atual em Celsius: -273\n"
          ]
        }
      ]
    },
    {
      "cell_type": "code",
      "source": [
        "# Pedir o número\n",
        "num = int(input('Informe um número inteiro: '))\n",
        "\n",
        "# Inicializar o cálculo\n",
        "fatorial = 1\n",
        "\n",
        "# nosso contador inicializa com o número máximo\n",
        "# e será feita uma contagem decrescente com o operador -=\n",
        "i = num\n",
        "while i > 0:\n",
        "    # queremos multiplicar agora o valor do fatorial pelo num\n",
        "    # e todos os números abaixo dele até 1\n",
        "    fatorial *= i\n",
        "    i -= 1\n",
        "\n",
        "# Imprimir o cálculo do fatorial\n",
        "print(f'Fatorial de {num} é {fatorial}')"
      ],
      "metadata": {
        "colab": {
          "base_uri": "https://localhost:8080/"
        },
        "id": "FQxi6RWeUmtp",
        "outputId": "dd185696-605c-4be6-f2db-5dd580fb56c3"
      },
      "execution_count": null,
      "outputs": [
        {
          "output_type": "stream",
          "name": "stdout",
          "text": [
            "Digite um numero para que o fatorial do mesmo seja calculado: 5\n",
            "1225.0\n",
            "4900.0\n",
            "14700.0\n",
            "29400.0\n",
            "29400.0\n",
            "0.0\n"
          ]
        }
      ]
    },
    {
      "cell_type": "markdown",
      "source": [
        "#Momento dos projetos (for e while)"
      ],
      "metadata": {
        "id": "uLUvAP81YnGU"
      }
    },
    {
      "cell_type": "code",
      "source": [
        "enumerador = int(input('Digite um número para saber a tabuada: '))\n",
        "contador = 1\n",
        "\n",
        "while contador <= 10:\n",
        "  print(f'{enumerador} x {contador} = {enumerador * contador}')\n",
        "  contador += 1"
      ],
      "metadata": {
        "colab": {
          "base_uri": "https://localhost:8080/"
        },
        "id": "LYFcFpjkYrZP",
        "outputId": "93727888-22df-4071-c01f-bcb640ea6cc6"
      },
      "execution_count": null,
      "outputs": [
        {
          "output_type": "stream",
          "name": "stdout",
          "text": [
            "Digite um número para saber a tabuada: 10\n",
            "10 x 1 = 10\n",
            "10 x 2 = 20\n",
            "10 x 3 = 30\n",
            "10 x 4 = 40\n",
            "10 x 5 = 50\n",
            "10 x 6 = 60\n",
            "10 x 7 = 70\n",
            "10 x 8 = 80\n",
            "10 x 9 = 90\n",
            "10 x 10 = 100\n"
          ]
        }
      ]
    },
    {
      "cell_type": "code",
      "source": [
        "# Solicitamos o número\n",
        "num = int(input(\"Digite o número: \"))\n",
        "\n",
        "# Assumimos que o número é primo até que se prove o contrário\n",
        "eh_primo = True\n",
        "\n",
        "# Números abaixo de 2 não são primos\n",
        "if num <= 1 :\n",
        "  eh_primo = False\n",
        "else:\n",
        "    for i in range(2, num):\n",
        "        # Se o número for divisível por qualquer número dentro deste intervalo,\n",
        "        # ele não é primo, portanto, mudamos a variável 'eh_primo' para False e saímos do loop.\n",
        "        if num % i == 0:\n",
        "            eh_primo = False\n",
        "            break\n",
        "\n",
        "# Verifica se 'eh_primo' ainda é True, o que significa que o número passou pelo loop\n",
        "# sem ser divisível por nenhum número além de 1 e ele mesmo.\n",
        "if eh_primo:\n",
        "    # Se for o caso, o número é primo.\n",
        "    print(f'O número {num} é primo')\n",
        "else:\n",
        "    # Caso contrário, o número não é primo.\n",
        "    print(f'O número {num} não é primo')"
      ],
      "metadata": {
        "colab": {
          "base_uri": "https://localhost:8080/"
        },
        "id": "V8UYqs0kZUR1",
        "outputId": "fb8b187e-eb10-47ce-b280-31092c6749e0"
      },
      "execution_count": null,
      "outputs": [
        {
          "output_type": "stream",
          "name": "stdout",
          "text": [
            "Digite um número para saber se ele é primo: 20\n",
            "0\n",
            "O número 20 não é primo.\n"
          ]
        }
      ]
    },
    {
      "cell_type": "code",
      "source": [
        "# Coletamos as idades dos clientes\n",
        "idade = int(input('Informe a idade (ou um número negativo para encerrar): '))\n",
        "\n",
        "# Inicializamos as variáveis de contadores\n",
        "contador_0_25 = 0 # contador de idades entre 0 e 25\n",
        "contador_26_50 = 0 # contador de idades entre 26 e 50\n",
        "contador_51_75 = 0 # contador de idades entre 51 e 75\n",
        "contador_76_100 = 0 # contador de idades entre 76 e 100\n",
        "\n",
        "# nosso código executa sempre até o valor de idade for negativa\n",
        "while idade >= 0:\n",
        "    # contamos cada caso\n",
        "    if idade >= 0 and idade <= 25:\n",
        "        contador_0_25 += 1\n",
        "    elif idade >= 26 and idade <= 50:\n",
        "        contador_26_50 += 1\n",
        "    elif idade >= 51 and idade <= 75:\n",
        "        contador_51_75 += 1\n",
        "    elif idade >= 76 and idade <= 100:\n",
        "        contador_76_100 += 1\n",
        "\n",
        "    # Repetir o processo de entrada de dados até que seja digitado um número negativo\n",
        "    idade = int(input('Informe a idade (ou um número negativo para encerrar): '))\n",
        "\n",
        "# Mostramos os resultados\n",
        "print('Distribuição de idades:')\n",
        "print('[0-25]:', contador_0_25)\n",
        "print('[26-50]:', contador_26_50)\n",
        "print('[51-75]:', contador_51_75)\n",
        "print('[76-100]:', contador_76_100)"
      ],
      "metadata": {
        "id": "Kcon0TJ3Z5-I"
      },
      "execution_count": null,
      "outputs": []
    },
    {
      "cell_type": "code",
      "source": [
        "# Inicializamos as variáveis contadoras\n",
        "votos_candidato1 = 0\n",
        "votos_candidato2 = 0\n",
        "votos_candidato3 = 0\n",
        "votos_candidato4 = 0\n",
        "votos_nulos = 0\n",
        "votos_branco = 0\n",
        "\n",
        "# Início do laço para ler os votos\n",
        "for i in range(0,20):\n",
        "    voto = int(input('Informe seu voto: '))\n",
        "    if voto == 1:\n",
        "        votos_candidato1 += 1\n",
        "    elif voto == 2:\n",
        "        votos_candidato2 += 1\n",
        "    elif voto == 3:\n",
        "        votos_candidato3 += 1\n",
        "    elif voto == 4:\n",
        "        votos_candidato4 += 1\n",
        "    elif voto == 5:\n",
        "        votos_nulos += 1\n",
        "    elif voto == 6:\n",
        "        votos_branco += 1\n",
        "    else:\n",
        "        print(\"Voto inválido.\")\n",
        "\n",
        "print(f'Votos candidato 1: {votos_candidato1}')\n",
        "print(f'Votos candidato 2: {votos_candidato2}')\n",
        "print(f'Votos candidato 3: {votos_candidato3}')\n",
        "print(f'Votos candidato 4: {votos_candidato4}')\n",
        "print(f'Votos nulos: {votos_nulos}')\n",
        "print(f'Votos em branco: {votos_branco}')\n",
        "print(f'Percentual de votos nulos: {(votos_nulos / 20 * 100)}')\n",
        "print(f'Percentual de votos em branco: {(votos_branco / 20 * 100)}')"
      ],
      "metadata": {
        "id": "oJs0epVdb8bj"
      },
      "execution_count": null,
      "outputs": []
    }
  ]
}